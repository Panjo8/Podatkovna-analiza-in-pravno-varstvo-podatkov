{
 "cells": [
  {
   "cell_type": "code",
   "execution_count": 1,
   "metadata": {},
   "outputs": [],
   "source": [
    "import requests\n",
    "import pandas as pd\n",
    "from bs4 import BeautifulSoup\n",
    "import re\n",
    "from itertools import product"
   ]
  },
  {
   "cell_type": "code",
   "execution_count": 55,
   "metadata": {},
   "outputs": [],
   "source": [
    "url = \"https://kt.ijs.si/~ljupco/lectures/papvp-2425/podatkovni-viri/List%20of%20countries%20and%20dependencies%20and%20their%20capitals%20in%20native%20languages%20-%20Wikipedia.html\"\n",
    "html = requests.get(url)\n",
    "text = html.text\n",
    "soup = BeautifulSoup(text, 'html.parser')\n",
    "nastevni_seznam_html = soup.select(\"table.wikitable\") #ime classa\n",
    "#print(nastevni_seznam_html)"
   ]
  },
  {
   "cell_type": "code",
   "execution_count": 78,
   "metadata": {},
   "outputs": [],
   "source": [
    "drzava = []\n",
    "ime = []\n",
    "\n",
    "for vrstica in soup.find_all('tr'): #po tabeli\n",
    "    celica = vrstica.find_all('td')\n",
    "    if len(celica) >= 2:\n",
    "        drzave = celica[0].get_text(strip=True)\n",
    "        imena = celica[1].get_text(strip=True)\n",
    "        drzava.append(drzave)\n",
    "        ime.append(imena)\n",
    "\n",
    "\n",
    "\n",
    "\n",
    "glavna_mesta = pd.DataFrame({\n",
    "    \"drzava\": pd.Series(i for i in drzava[3:248]),\n",
    "    \"ime\": pd.Series(i for i in ime[3:248])\n",
    "})\n",
    "\n",
    "glavna_mesta['drzava'] = glavna_mesta['drzava'].str.replace(r'\\[.*?\\]|\\d', '', regex=True).str.strip() #drzavam odstranil []\n",
    "\n",
    "glavna_mesta.loc[glavna_mesta['drzava'] == \"China(People's Republic of)\", 'drzava'] = 'China'\n",
    "glavna_mesta.loc[glavna_mesta['drzava'] == \"Côte d'Ivoire(formerly Ivory Coast\", 'drzava'] = \"Côte d'Ivoire\"\n",
    "glavna_mesta.loc[glavna_mesta['drzava'] == \"Eswatini(formerly Swaziland)\", 'drzava'] = 'Eswatini'\n",
    "glavna_mesta.loc[glavna_mesta['ime'] == \"HagåtñaformerlyAgaña\", 'ime'] = 'Hagåtña'\n",
    "glavna_mesta.loc[glavna_mesta['ime'] == \"Jerusalem(declared)[a]\", 'ime'] = 'Jerusalem'\n",
    "glavna_mesta.loc[glavna_mesta['ime'] == \"Tarawa[13]\", 'ime'] = 'Tarawa' \n",
    "glavna_mesta.loc[glavna_mesta['ime'] == \"Brades Estate[15]\", 'ime'] = 'Brades Estate'\n",
    "glavna_mesta.loc[glavna_mesta['drzava'] == \"Myanmar(or Burma)\", 'drzava'] = 'Myanmar'\n",
    "glavna_mesta.loc[glavna_mesta['ime'] == \"Yaren(de facto)[16]\", 'ime'] = 'Yaren'\n",
    "glavna_mesta.loc[glavna_mesta['ime'] == \"East Jerusalem(declared)Ramallah(administrative capital)[b]\", 'ime'] = 'East Jerusalem'\n",
    "glavna_mesta.loc[glavna_mesta['ime'] == \"Pretoria(administrative capital),Cape Town(legislative capital),Bloemfontein, (judicial capital)\", 'ime'] = 'Pretoria'\n",
    "glavna_mesta.loc[glavna_mesta['drzava'] == \"Taiwan(Republic of China)\", 'drzava'] = 'Taiwan'\n",
    "glavna_mesta.loc[glavna_mesta['ime'] == \"Bern(de facto)[16]\", 'ime'] = 'Bern'\n",
    "glavna_mesta.loc[glavna_mesta['ime'] == \"Fongafale(inFunafuti)\", 'ime'] = 'Funafuti'\n",
    "glavna_mesta.to_csv(\"glavna_mesta.csv\", index=False)\n"
   ]
  },
  {
   "cell_type": "code",
   "execution_count": 135,
   "metadata": {},
   "outputs": [
    {
     "name": "stderr",
     "output_type": "stream",
     "text": [
      "C:\\Users\\blabl\\AppData\\Local\\Temp\\ipykernel_9800\\3196112288.py:8: SettingWithCopyWarning: \n",
      "A value is trying to be set on a copy of a slice from a DataFrame.\n",
      "Try using .loc[row_indexer,col_indexer] = value instead\n",
      "\n",
      "See the caveats in the documentation: https://pandas.pydata.org/pandas-docs/stable/user_guide/indexing.html#returning-a-view-versus-a-copy\n",
      "  filtriran[\"vrednost\"] = filtriran[\"vrednost\"].str.replace(\",\", \"\").astype(float)\n"
     ]
    },
    {
     "data": {
      "text/plain": [
       "enota              object\n",
       "leto                int64\n",
       "spremenljivka    category\n",
       "vrednost          float64\n",
       "dtype: object"
      ]
     },
     "execution_count": 135,
     "metadata": {},
     "output_type": "execute_result"
    }
   ],
   "source": [
    "filmi = pd.read_csv(\"SYB61_253_Population Growth Rates in Urban areas and Capital cities.csv\")\n",
    "filmi = filmi.iloc[:, [1, 2, 3, 6]] #vzeli stoplce\n",
    "filmi.columns = ['enota', 'leto', 'spremenljivka', 'vrednost'] #spremenili ime\n",
    "filmi = filmi.iloc[11:] #odstranili prvih 11\n",
    "\n",
    "filmi.reset_index(drop=True, inplace=True) #resetirali indexe\n",
    "filtriran = filmi[filmi.iloc[:, 2].str.contains(r\"Urban population \\(percent\\)|Capital city population \\(thousands\\)|Capital city population \\(as a percentage of total population\\)\", na=False, regex=True)] #vzeli stoplce ki so take oblike\n",
    "filtriran[\"vrednost\"] = filtriran[\"vrednost\"].str.replace(\",\", \"\").astype(float) #string spremenil v float\n",
    "\n",
    "populacija = filtriran.astype({'leto': int, 'spremenljivka': 'category', 'vrednost': float}) #spremenili atribute\n",
    "populacija.to_csv(\"poplacija.csv\", index=False)\n",
    "#populacija.dtypes"
   ]
  },
  {
   "cell_type": "code",
   "execution_count": 155,
   "metadata": {},
   "outputs": [
    {
     "name": "stderr",
     "output_type": "stream",
     "text": [
      "C:\\Users\\blabl\\AppData\\Local\\Temp\\ipykernel_16100\\982439136.py:49: FutureWarning: Downcasting object dtype arrays on .fillna, .ffill, .bfill is deprecated and will change in a future version. Call result.infer_objects(copy=False) instead. To opt-in to the future behavior, set `pd.set_option('future.no_silent_downcasting', True)`\n",
      "  filmi_true = filmi_true.fillna(True)\n"
     ]
    }
   ],
   "source": [
    "url = \"https://kt.ijs.si/~ljupco/lectures/papvp-2425/podatkovni-viri/List%20of%20Academy%20Award%e2%80%93winning%20films%20-%20Wikipedia.html\"\n",
    "html = requests.get(url)\n",
    "text = html.text\n",
    "soup = BeautifulSoup(text, 'html.parser')\n",
    "\n",
    "\n",
    "naslov = []\n",
    "leto = []\n",
    "oskar =[]\n",
    "stevilo =[]\n",
    "\n",
    "for vrstica in soup.find_all('tr'): #po tabeli\n",
    "    celica = vrstica.find_all('td')\n",
    "    if len(celica) >= 2:\n",
    "        prvi = celica[0].get_text(strip=True)\n",
    "        drugi = celica[1].get_text(strip=True)\n",
    "        tretji = celica[2].get_text(strip=True)\n",
    "        cetrti = celica[3].get_text(strip=True)\n",
    "        naslov.append(prvi)\n",
    "        leto.append(drugi)\n",
    "        oskar.append(tretji)\n",
    "        stevilo.append(cetrti)\n",
    "\n",
    "\n",
    "oskar2 = []\n",
    "stevilo2 = []\n",
    "for text in oskar:\n",
    "  oskar2.append(re.findall(r'(?<!\\()\\b\\d+\\b(?!\\))', text))\n",
    "for text in stevilo:\n",
    "   stevilo2.append(re.findall(r'(?<!\\()\\b\\d+\\b(?!\\))', text))\n",
    "leto2 = [\n",
    "    re.match(r'^(\\d+)', year).group(1) if '/' in year else year\n",
    "    for year in leto]\n",
    "\n",
    "oskar3 = [int(item[0]) for item in oskar2]\n",
    "stevilo3 = [int(item[0]) for item in stevilo2]\n",
    "\n",
    "rez = [x - y for x, y in zip(stevilo3, oskar3)]\n",
    "\n",
    "\n",
    "filmi_true = pd.DataFrame({\n",
    "    \"naslov\": pd.Series(naslov),\n",
    "    \"leto\": pd.Series(leto2),\n",
    "    \"oskar\": pd.Series(),\n",
    "    \"stevilo\": pd.Series(oskar3),\n",
    "    \"stevilo2\": pd.Series(stevilo3)\n",
    "})\n",
    "\n",
    "filmi_true = filmi_true.fillna(True)\n",
    "\n",
    "\n",
    "filmi_false = filmi_true.copy()\n",
    "filmi_false['oskar'] = False\n",
    "filmi_false['stevilo'] = rez\n",
    "\n",
    "filmi = pd.concat([filmi_false, filmi_true], ignore_index=True)\n",
    "filmi = filmi.sort_values(by='naslov', ascending=True)\n",
    "filmi = filmi[filmi['stevilo2'] != 0]\n",
    "filmi = filmi.drop(columns=['stevilo2'])\n",
    "filmi = filmi.reset_index(drop=True)\n",
    "filmi = filmi.astype({'leto': int})\n",
    "\n",
    "filmi.to_csv(\"filmi.csv\", index=False)\n",
    "\n"
   ]
  },
  {
   "cell_type": "code",
   "execution_count": 226,
   "metadata": {},
   "outputs": [],
   "source": [
    "url = \"https://kt.ijs.si/~ljupco/lectures/papvp-2425/podatkovni-viri/List%20of%20Academy%20Award%e2%80%93winning%20foreign-language%20films%20-%20Wikipedia.html\"\n",
    "\n",
    "tables = pd.read_html(url)\n",
    "df = pd.DataFrame(tables[0])\n",
    "\n",
    "df = df.drop(columns=['Winner(s)'])\n",
    "df['leto'] = df['Year (Ceremony)'].str.extract(r'(\\d{4})')\n",
    "df['zap_st_podelitev'] = df['Year (Ceremony)'].str.extract(r'\\((\\d+)[a-z]{2}\\)')\n",
    "df = df.drop(columns=['Year (Ceremony)'])\n",
    "\n",
    "\n",
    "df['naslov_nom'] = df['Film title used in nomination'].str.replace(r'\\[.*?\\]', '', regex=True).str.strip()\n",
    "df['naslov_org'] = df['Original title'].str.replace(r'\\[.*?\\]', '', regex=True).str.strip()\n",
    "df['kategorija'] = df['Category'].str.replace(r'\\(.*?\\)', '', regex=True).str.strip()\n",
    "\n",
    "df = df.drop(columns=['Film title used in nomination','Original title', 'Category'])\n",
    "df = df[['naslov_nom','naslov_org','leto','zap_st_podelitev', 'kategorija','Country','Language(s)']]\n",
    "\n",
    "df['drzava'] = df['Country'].str.split(', ')\n",
    "df['jezik'] = df['Language(s)'].str.split(', ')\n",
    "\n",
    "expanded_rows = []\n",
    "for _, row in df.iterrows():\n",
    "    for country, language in product(row['drzava'], row['jezik']):\n",
    "        expanded_rows.append({\n",
    "            'naslov_nom': row['naslov_nom'],\n",
    "            'naslov_org': row['naslov_org'],\n",
    "            'leto': row['leto'],\n",
    "            'zap_st_podelitev': row['zap_st_podelitev'],\n",
    "            'kategorija': row['kategorija'],\n",
    "            'drzava': country,\n",
    "            'jezik': language\n",
    "        })\n",
    "tuji_filmi = pd.DataFrame(expanded_rows)\n",
    "#print(df)\n",
    "\n"
   ]
  }
 ],
 "metadata": {
  "kernelspec": {
   "display_name": "venv",
   "language": "python",
   "name": "python3"
  },
  "language_info": {
   "codemirror_mode": {
    "name": "ipython",
    "version": 3
   },
   "file_extension": ".py",
   "mimetype": "text/x-python",
   "name": "python",
   "nbconvert_exporter": "python",
   "pygments_lexer": "ipython3",
   "version": "3.11.9"
  }
 },
 "nbformat": 4,
 "nbformat_minor": 2
}
