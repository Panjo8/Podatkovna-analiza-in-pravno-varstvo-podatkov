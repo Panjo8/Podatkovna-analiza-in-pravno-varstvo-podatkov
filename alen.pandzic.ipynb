{
 "cells": [
  {
   "cell_type": "code",
   "execution_count": 3,
   "metadata": {},
   "outputs": [],
   "source": [
    "import pandas as pd"
   ]
  },
  {
   "cell_type": "code",
   "execution_count": 56,
   "metadata": {},
   "outputs": [
    {
     "name": "stdout",
     "output_type": "stream",
     "text": [
      "             naslov  leto  stevilo_nominacij\n",
      "63    All About Eve  1950                 14\n",
      "539      La La Land  2016                 14\n",
      "1244        Titanic  1997                 14\n"
     ]
    }
   ],
   "source": [
    "df = pd.read_csv(\"filmi.csv\")\n",
    "res = df.groupby([\"naslov\",\"leto\"], as_index=False)[\"stevilo\"].sum()\n",
    "res.rename(columns={\"stevilo\": \"stevilo_nominacij\"}, inplace=True)\n",
    "\n",
    "odgovor1a = res.loc[res['stevilo_nominacij'] == res[\"stevilo_nominacij\"].max()]\n",
    "print(odgovor1a)"
   ]
  },
  {
   "cell_type": "markdown",
   "metadata": {},
   "source": [
    "S funkcijo sum() smo dobili število nominacij, ker obstajajao filmi z istim naslovom, ampak imajo starejše/novejše verzije kot npr. A Star Is Born, jih obravnavamo kot drugačni filmi in jih grupiramo po naslovu in letu. Nato najdemo maksimalno vrednost število nominacij in vrnemo vse vrstice, ki imajo to vrednost."
   ]
  },
  {
   "cell_type": "code",
   "execution_count": 54,
   "metadata": {},
   "outputs": [
    {
     "name": "stdout",
     "output_type": "stream",
     "text": [
      "148\n"
     ]
    }
   ],
   "source": [
    "filtriran = df[df[\"oskar\"]].reset_index(drop= True)\n",
    "\n",
    "filtriran[\"stevilo_nominacij\"] = res.loc[:,\"stevilo_nominacij\"]\n",
    "filtriran = filtriran[(filtriran[\"stevilo_nominacij\"] >= 3) & (filtriran[\"stevilo\"] >= filtriran[\"stevilo_nominacij\"] / 2)].reset_index(drop=True)\n",
    "odgovor1b = filtriran.shape[0]\n",
    "print(odgovor1b)\n",
    "\n"
   ]
  },
  {
   "cell_type": "markdown",
   "metadata": {},
   "source": [
    "Tabelo smo filtrirali, tako da smo odstranili vse filme, ki so imeli lastnost False, ker nas zanima samo število pridboljenih oksarjev. Nato smo šte dodali stoplec s skupnim število nominacij, nato smo v tabeli shranili samo podatke, ki zadoščaju pogoju in vrnili število filmov, ki zadošča tem pogoju."
   ]
  },
  {
   "cell_type": "code",
   "execution_count": 100,
   "metadata": {},
   "outputs": [
    {
     "name": "stdout",
     "output_type": "stream",
     "text": [
      "   desetletje  stoletje  stevilo\n",
      "3        1950        20      251\n",
      "Največ filmov je bilo nagrajenih v 6.desetletju 20. stoletja s 251 nagrajenih filmov\n"
     ]
    }
   ],
   "source": [
    "filtriran = df[df[\"oskar\"]].reset_index(drop= True)\n",
    "filtriran[\"desetletje\"] = (filtriran[\"leto\"] // 10) * 10\n",
    "filtriran[\"stoletje\"] = (filtriran[\"leto\"] // 100) + 1\n",
    "res = filtriran.groupby([\"desetletje\",\"stoletje\"], as_index=False)[\"stevilo\"].sum()\n",
    "\n",
    "vrstica = res.loc[res['stevilo'] == res[\"stevilo\"].max()]\n",
    "\n",
    "print(f\"Največ filmov je bilo nagrajenih v {(vrstica['desetletje'].values[0]%100)//10 + 1}.desetletju {vrstica['stoletje'].values[0]}. stoletja s {vrstica['stevilo'].values[0]} nagrajenih filmov\")\n"
   ]
  },
  {
   "cell_type": "markdown",
   "metadata": {},
   "source": [
    "Za vsako leto smo izračunali, v katero desetlejte in stoletje spada ter dodali nove stoplce. Tabelo smo nato grupirali po desetletju in stoletju ter sešteli vse nagrajene filme v tistem desetletju. Nato smo pogledali, katero desetletje ima največ nagrajenih filmov."
   ]
  }
 ],
 "metadata": {
  "kernelspec": {
   "display_name": "venv",
   "language": "python",
   "name": "python3"
  },
  "language_info": {
   "codemirror_mode": {
    "name": "ipython",
    "version": 3
   },
   "file_extension": ".py",
   "mimetype": "text/x-python",
   "name": "python",
   "nbconvert_exporter": "python",
   "pygments_lexer": "ipython3",
   "version": "3.11.9"
  }
 },
 "nbformat": 4,
 "nbformat_minor": 2
}
